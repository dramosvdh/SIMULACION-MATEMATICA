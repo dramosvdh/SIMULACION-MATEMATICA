{
 "cells": [
  {
   "cell_type": "markdown",
   "id": "c2f3ea9c",
   "metadata": {},
   "source": [
    "# Daniel Ramos van der Hoek"
   ]
  },
  {
   "cell_type": "markdown",
   "id": "60e02374",
   "metadata": {},
   "source": [
    "### ¿Quien soy?"
   ]
  },
  {
   "cell_type": "markdown",
   "id": "8e2565e6",
   "metadata": {},
   "source": [
    "Mi nombre es **Daniel Ramos van der Hoek**. Mi edad es: \n",
    "\n",
    "$$10 años + 11 años=21 años$$. \n",
    "Estudio Ingeniería Civil, voy en séptimo semestre. Mis pasatiempos son:\n",
    "    \n",
    "    - Jugar tenis\n",
    "    - Hacer gimnasio. \n",
    "    - Viajar \n",
    "    - Pasar tiermpo con mis amigos. \n",
    "\n",
    "Durante dos años y medio estuve trabajando en la empresa de acero estructural más grande de todo latinoamérica y hace un mes renuncié ya que necesitaba dedicarle más tiempo a la escuela. Cuando no estoy estudiando, ando de fiesta o cocinando. Tengo una perrita que se llama Leia y una gatita que se llama Gala, estas también me quitan mucho de mi tiempo. \n",
    "\n",
    "Mis deportes favoritos son:\n",
    "\n",
    "    1. Fútbol Americano\n",
    "    2. Tenis\n",
    "    3. Soccer"
   ]
  },
  {
   "cell_type": "markdown",
   "id": "72cc6c02",
   "metadata": {},
   "source": [
    "### Algo que me interesa de mi carrera"
   ]
  },
  {
   "cell_type": "markdown",
   "id": "396583e4",
   "metadata": {},
   "source": [
    "Me gusta lo versatil que es. Yo estuve metido mucho tiempo en naves industriales, fabricando acero para la refinería *Dos Bocas* de nuestro querídisimo presidente. Estando aquí agarre una gran pasión por el acero y por las cosas que puedes hacer con el. Tuve la oportunidad de visitar un rascacielos en Nueva York en construcción. Esto me dio una idea de las cosas que uno puede llegar a hacer con esta carrera, cosas magníficas. Tomando clases en el ITESO tambipen encontré una gran pasión por el estudio de suelos y el diseño de vías terrestres."
   ]
  },
  {
   "cell_type": "markdown",
   "id": "315287e8",
   "metadata": {},
   "source": [
    "![alt text](https://sociedadtrespuntocero.com/wp-content/uploads/2022/08/dos-bocas13ago.jpg)"
   ]
  }
 ],
 "metadata": {
  "kernelspec": {
   "display_name": "Python 3 (ipykernel)",
   "language": "python",
   "name": "python3"
  },
  "language_info": {
   "codemirror_mode": {
    "name": "ipython",
    "version": 3
   },
   "file_extension": ".py",
   "mimetype": "text/x-python",
   "name": "python",
   "nbconvert_exporter": "python",
   "pygments_lexer": "ipython3",
   "version": "3.9.12"
  }
 },
 "nbformat": 4,
 "nbformat_minor": 5
}
